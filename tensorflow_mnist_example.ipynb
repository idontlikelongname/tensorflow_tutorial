{
 "cells": [
  {
   "cell_type": "code",
   "execution_count": 8,
   "metadata": {},
   "outputs": [],
   "source": [
    "import tensorflow as tf\n",
    "import numpy as np\n",
    "import math\n",
    "import matplotlib.pyplot as plt\n",
    "# MNIST\n",
    "from tensorflow.examples.tutorials.mnist import input_data\n",
    "from tensorflow.python.framework import ops\n",
    "\n",
    "%matplotlib inline\n",
    "\n",
    "config = tf.ConfigProto()  \n",
    "config.gpu_options.allow_growth=True \n",
    "\n",
    "\n",
    "# Convolutional Layer 1.\n",
    "filter_size_1 = 5\n",
    "num_filters_1 = 16\n",
    "\n",
    "# Convolutional Layer 2\n",
    "filter_size_2 = 5\n",
    "num_filters_2 = 36\n",
    "\n",
    "# Fully-connected layer.\n",
    "fc_size = 128"
   ]
  },
  {
   "cell_type": "code",
   "execution_count": 9,
   "metadata": {},
   "outputs": [],
   "source": [
    "# We know that MNIST images are 28 pixels in each dimension.\n",
    "img_size = 28\n",
    "\n",
    "# Images are stored in one-dimensional arrays of this length.\n",
    "img_size_flat = img_size * img_size\n",
    "\n",
    "# Tuple with height and width of images used to reshape arrays.\n",
    "img_shape = (img_size, img_size)\n",
    "\n",
    "# Number of colour channels for the images: 1 channel for gray-scale.\n",
    "num_channels = 1\n",
    "\n",
    "# Number of classes, one class for each of 10 digits.\n",
    "num_classes = 10\n"
   ]
  },
  {
   "cell_type": "code",
   "execution_count": 10,
   "metadata": {},
   "outputs": [
    {
     "name": "stdout",
     "output_type": "stream",
     "text": [
      "Extracting path/to/MNIST_data/train-images-idx3-ubyte.gz\n",
      "Extracting path/to/MNIST_data/train-labels-idx1-ubyte.gz\n",
      "Extracting path/to/MNIST_data/t10k-images-idx3-ubyte.gz\n",
      "Extracting path/to/MNIST_data/t10k-labels-idx1-ubyte.gz\n",
      "55000\n",
      "(55000, 784)\n",
      "5000\n",
      "(5000, 784)\n",
      "10000\n"
     ]
    }
   ],
   "source": [
    "# 下载解压训练数据\n",
    "mnist=input_data.read_data_sets(\"path/to/MNIST_data/\",one_hot=True)\n",
    "print(mnist.train.num_examples)\n",
    "print(mnist.train.images.shape)\n",
    "print(mnist.validation.num_examples)\n",
    "print(mnist.validation.images.shape)\n",
    "print(mnist.test.num_examples)"
   ]
  },
  {
   "cell_type": "code",
   "execution_count": 3,
   "metadata": {},
   "outputs": [
    {
     "name": "stdout",
     "output_type": "stream",
     "text": [
      "[ 0.  1.  0.  0.  0.  0.  0.  0.  0.  0.]\n",
      "<class 'numpy.ndarray'>\n"
     ]
    },
    {
     "data": {
      "image/png": "[encoded data removed]",
      "text/plain": [
       "<matplotlib.figure.Figure at 0x7fdf67f0c198>"
      ]
     },
     "metadata": {},
     "output_type": "display_data"
    }
   ],
   "source": [
    "# 显示图片\n",
    "plt.imshow(mnist.train.images[4].reshape(28,28),cmap=plt.cm.gray)\n",
    "print(mnist.train.labels[4])\n",
    "print(type(mnist.train.images))"
   ]
  },
  {
   "cell_type": "code",
   "execution_count": 4,
   "metadata": {},
   "outputs": [],
   "source": [
    "def load_data_set(mnist):\n",
    "    #X_train=tf.transpose(mnist.train.images)\n",
    "#     Y_train=tf.transpose(mnist.train.labels)\n",
    "#     X_dev=tf.transpose(mnist.validation.images)\n",
    "#     Y_dev=tf.transpose(mnist.validation.labels)\n",
    "#     X_test=tf.transpose(mnist.test.images)\n",
    "#     Y_test=tf.transpose(mnist.test.labels)\n",
    "    \n",
    "    X_train=mnist.train.images.T\n",
    "    Y_train=mnist.train.labels.T\n",
    "    X_dev=mnist.validation.images.T\n",
    "    Y_dev=mnist.validation.labels.T\n",
    "    X_test=mnist.test.images.T\n",
    "    Y_test=mnist.test.labels.T\n",
    "    \n",
    "    return X_train,Y_train,X_dev,Y_dev,X_test,Y_test"
   ]
  },
  {
   "cell_type": "code",
   "execution_count": 5,
   "metadata": {},
   "outputs": [],
   "source": [
    "def create_placeholders(n_x,n_y):\n",
    "    \n",
    "    X=tf.placeholder(tf.float32,[n_x,None],name=\"X\")\n",
    "    Y=tf.placeholder(tf.float32,[n_y,None],name=\"Y\")\n",
    "    \n",
    "    return X,Y"
   ]
  },
  {
   "cell_type": "code",
   "execution_count": null,
   "metadata": {},
   "outputs": [],
   "source": [
    "def new_weights(shape):\n",
    "    return tf.Variable(tf.truncated_no)"
   ]
  },
  {
   "cell_type": "code",
   "execution_count": 6,
   "metadata": {},
   "outputs": [],
   "source": [
    "def initialize_parameters():\n",
    "    \n",
    "    tf.set_random_seed(1)\n",
    "    \n",
    "    W1 = tf.get_variable(\"W1\", [100, 784], initializer = tf.contrib.layers.xavier_initializer(seed=1))\n",
    "    b1 = tf.get_variable(\"b1\", [100,1], initializer=tf.zeros_initializer())\n",
    "    \n",
    "    W2 = tf.get_variable(\"W2\", [10, 100], initializer=tf.contrib.layers.xavier_initializer(seed=1))\n",
    "    b2 = tf.get_variable(\"b2\",[10,1],initializer=tf.zeros_initializer())\n",
    "    \n",
    "    parameters={\"W1\":W1,\n",
    "                \"b1\":b1,\n",
    "                \"W2\":W2,\n",
    "                \"b2\":b2}\n",
    "    \n",
    "    return parameters"
   ]
  },
  {
   "cell_type": "code",
   "execution_count": 7,
   "metadata": {},
   "outputs": [],
   "source": [
    "def forward_propagation(X, parameters):\n",
    "    \n",
    "    A1=tf.nn.relu(tf.matmul(parameters[\"W1\"],X)+parameters[\"b1\"])\n",
    "    Z2=tf.matmul(parameters[\"W2\"],A1)+parameters[\"b2\"]\n",
    "    \n",
    "    return Z2"
   ]
  },
  {
   "cell_type": "code",
   "execution_count": 8,
   "metadata": {},
   "outputs": [],
   "source": [
    "def compute_cost(Z2,Y):\n",
    "    \n",
    "    logits = tf.transpose(Z2)\n",
    "    labels = tf.transpose(Y)\n",
    "    \n",
    "    cost = tf.reduce_mean(tf.nn.softmax_cross_entropy_with_logits(logits=logits,labels=labels))\n",
    "    \n",
    "    return cost"
   ]
  },
  {
   "cell_type": "code",
   "execution_count": 9,
   "metadata": {},
   "outputs": [],
   "source": [
    "def random_minibatches(X_train, Y_train, minibatch_size, seed=0):\n",
    "    \n",
    "    np.random.seed(seed)\n",
    "    m=X_train.shape[1]\n",
    "    mini_batches=[]\n",
    "    \n",
    "    permutation=list(np.random.permutation(int(m)))\n",
    "    shuffled_X=X_train[:,permutation]\n",
    "    shuffled_Y=Y_train[:,permutation]\n",
    "    \n",
    "    num_complete_minibatches=math.floor(m/minibatch_size)\n",
    "    \n",
    "    for i in range(num_complete_minibatches):\n",
    "        \n",
    "        minibatch_X=shuffled_X[:,i*minibatch_size:(i+1)*minibatch_size]\n",
    "        minibatch_Y=shuffled_Y[:,i*minibatch_size:(i+1)*minibatch_size]\n",
    "        # End code\n",
    "        minibatch=(minibatch_X,minibatch_Y)\n",
    "        mini_batches.append(minibatch)\n",
    "        \n",
    "    if m%minibatch_size != 0:\n",
    "        last_minibatch_X=shuffled_X[:,num_complete_minibatches*minibatch_size:]\n",
    "        last_minibatch_Y=shuffled_Y[:,num_complete_minibatches*minibatch_size:]\n",
    "        last_minibatch=(last_minibatch_X,last_minibatch_Y)\n",
    "        mini_batches.append(last_minibatch)\n",
    "        \n",
    "    return mini_batches"
   ]
  },
  {
   "cell_type": "code",
   "execution_count": 10,
   "metadata": {},
   "outputs": [],
   "source": [
    "def model(X_train,Y_train,X_dev,Y_dev,learning_rate=0.0001,\n",
    "          num_epochs=1000,minibatch_size=500,print_cost=True):\n",
    "    \n",
    "    ops.reset_default_graph() \n",
    "    tf.set_random_seed(1)\n",
    "    seed = 1\n",
    "    \n",
    "    # 绘制曲线图\n",
    "    costs_graph=[]\n",
    "    validation_acc_graph=[]\n",
    "    \n",
    "    (n_x,m)=X_train.shape\n",
    "    n_y=Y_train.shape[0]\n",
    "    \n",
    "    X, Y = create_placeholders(n_x,n_y)\n",
    "    \n",
    "    parameters=initialize_parameters()\n",
    "    \n",
    "    Z2=forward_propagation(X,parameters)\n",
    "    \n",
    "    cost = compute_cost(Z2,Y)\n",
    "    \n",
    "#     optimizer=tf.train.GradientDescentOptimizer(learning_rate=learning_rate).minimize(cost)\n",
    "    optimizer=tf.train.AdamOptimizer(learning_rate=learning_rate).minimize(cost)\n",
    "    \n",
    "    # 计算预测准确率, axis=0\n",
    "    correct_prediction=tf.equal(tf.argmax(Z2,0),tf.argmax(Y,0))\n",
    "    accuracy=tf.reduce_mean(tf.cast(correct_prediction,tf.float32))\n",
    "    \n",
    "    # 保存计算模型\n",
    "    saver=tf.train.Saver()\n",
    "    \n",
    "    init = tf.global_variables_initializer()\n",
    "    \n",
    "\n",
    "    with tf.Session(config=config) as sess:\n",
    "        \n",
    "        # run the initializer\n",
    "        sess.run(init)\n",
    "        \n",
    "        for k in range(num_epochs):\n",
    "            \n",
    "            seed = seed + 1\n",
    "            epoch_cost = 0\n",
    "            \n",
    "            minibatches=random_minibatches(X_train,Y_train,minibatch_size,seed)\n",
    "            \n",
    "            for minibatch in minibatches:\n",
    "                (minibatch_X,minibatch_Y)=minibatch\n",
    "                \n",
    "                _,minibatch_cost=sess.run([optimizer,cost],feed_dict={X:minibatch_X,Y:minibatch_Y}) \n",
    "                \n",
    "                epoch_cost = minibatch_cost+epoch_cost\n",
    "            \n",
    "            if k%20==0:\n",
    "                # 计算验证集的准确率\n",
    "                validate_acc=sess.run(accuracy,feed_dict={X:X_dev,Y:Y_dev})\n",
    "                \n",
    "                # 输出损失函数和验证数据集的准确率\n",
    "                print(\"Cost after epoch %i: %f\" % (k,epoch_cost))\n",
    "                print(\"Validation accuracy: %f\" % validate_acc)\n",
    "                \n",
    "                # 记录绘图数据\n",
    "                costs_graph.append(epoch_cost)\n",
    "                validation_acc_graph.append(validate_acc)\n",
    "        \n",
    "        # 计算测试集的准确率\n",
    "        test_acc=sess.run(accuracy,feed_dict={X:X_test,Y:Y_test})\n",
    "        train_acc=sess.run(accuracy,feed_dict={X:X_train,Y:Y_train})\n",
    "        validation_acc=sess.run(accuracy,feed_dict={X:X_dev,Y:Y_dev})\n",
    "        print(\"Train accuracy is: %f\" % train_acc)\n",
    "        print(\"Validation accuracy is: %f\" % validation_acc)\n",
    "        print(\"Test accuracy is: %f\" % test_acc)\n",
    "        \n",
    "        saver.save(sess,\"model/nnmodel.ckpt\")\n",
    "    \n",
    "    \n",
    "    # plot the cost\n",
    "    plt.subplot(2,1,1)\n",
    "    plt.plot(np.squeeze(costs_graph))\n",
    "    plt.ylabel('cost')\n",
    "    plt.xlabel('iterations')\n",
    "    plt.title(\"cost iterations\")\n",
    "    \n",
    "    plt.subplot(2,1,2)\n",
    "    plt.plot(np.squeeze(validation_acc_graph))\n",
    "    plt.ylabel('validation accuracy')\n",
    "    plt.xlabel('iterations')\n",
    "    plt.title('accuracy iterations')\n",
    "    \n",
    "    plt.show()"
   ]
  },
  {
   "cell_type": "code",
   "execution_count": 11,
   "metadata": {},
   "outputs": [
    {
     "name": "stdout",
     "output_type": "stream",
     "text": [
      "train shape X:(784, 55000), Y:(10, 55000)\n",
      "dev shape X:(784, 5000), Y:(10, 5000)\n",
      "test shape X:(784, 10000), Y:(10, 10000)\n"
     ]
    }
   ],
   "source": [
    "#\n",
    "X_train,Y_train,X_dev,Y_dev,X_test,Y_test=load_data_set(mnist)\n",
    "\n",
    "print(\"train shape X:%s, Y:%s\" % (str(X_train.shape),str(Y_train.shape)))\n",
    "print(\"dev shape X:%s, Y:%s\" % (str(X_dev.shape),str(Y_dev.shape)))\n",
    "print(\"test shape X:%s, Y:%s\" % (str(X_test.shape),str(Y_test.shape)))"
   ]
  },
  {
   "cell_type": "code",
   "execution_count": 12,
   "metadata": {},
   "outputs": [
    {
     "name": "stdout",
     "output_type": "stream",
     "text": [
      "<class 'numpy.ndarray'>\n",
      "<class 'numpy.ndarray'>\n",
      "shape of the 1st mini_batch_X: (784, 5)\n",
      "shape of the 2nd mini_batch_X: (784, 5)\n",
      "shape of the 3rd mini_batch_X: (784, 5)\n",
      "shape of the 1st mini_batch_Y: (10, 5)\n",
      "shape of the 2nd mini_batch_Y: (10, 5)\n",
      "shape of the 3rd mini_batch_Y: (10, 5)\n"
     ]
    }
   ],
   "source": [
    "# unit test for random_minibatches\n",
    "X_train_test = np.zeros((784, 55000))\n",
    "Y_train_test = np.zeros((10,55000))\n",
    "print(type(X_train_test))\n",
    "print(type(X_train))\n",
    "mini_batches=random_minibatches(X_train_test,Y_train_test,5,seed=1)\n",
    "print(\"shape of the 1st mini_batch_X: \" + str(mini_batches[0][0].shape))\n",
    "print(\"shape of the 2nd mini_batch_X: \" + str(mini_batches[1][0].shape))\n",
    "print(\"shape of the 3rd mini_batch_X: \" + str(mini_batches[2][0].shape))\n",
    "print(\"shape of the 1st mini_batch_Y: \" + str(mini_batches[0][1].shape))\n",
    "print(\"shape of the 2nd mini_batch_Y: \" + str(mini_batches[1][1].shape)) \n",
    "print(\"shape of the 3rd mini_batch_Y: \" + str(mini_batches[2][1].shape))"
   ]
  },
  {
   "cell_type": "code",
   "execution_count": 13,
   "metadata": {},
   "outputs": [
    {
     "name": "stdout",
     "output_type": "stream",
     "text": [
      "Z3 = Tensor(\"add_1:0\", shape=(10, ?), dtype=float32)\n",
      "cost = Tensor(\"Mean:0\", shape=(), dtype=float32)\n"
     ]
    }
   ],
   "source": [
    "# cost function unit test\n",
    "tf.reset_default_graph()\n",
    "\n",
    "with tf.Session(config=config) as sess:\n",
    "    X, Y = create_placeholders(784, 6)\n",
    "    parameters = initialize_parameters()\n",
    "    Z3 = forward_propagation(X, parameters)\n",
    "    print(\"Z3 = \" + str(Z3))\n",
    "    cost = compute_cost(Z3, Y)\n",
    "    print(\"cost = \" + str(cost))\n",
    "    "
   ]
  },
  {
   "cell_type": "code",
   "execution_count": 14,
   "metadata": {},
   "outputs": [
    {
     "name": "stdout",
     "output_type": "stream",
     "text": [
      "Cost after epoch 0: 278.610400\n",
      "Validation accuracy: 0.953400\n",
      "Cost after epoch 20: 4.830895\n",
      "Validation accuracy: 0.976800\n",
      "Cost after epoch 40: 2.832521\n",
      "Validation accuracy: 0.978200\n",
      "Cost after epoch 60: 0.045578\n",
      "Validation accuracy: 0.980000\n",
      "Cost after epoch 80: 1.363974\n",
      "Validation accuracy: 0.973200\n",
      "Train accuracy is: 1.000000\n",
      "Validation accuracy is: 0.980400\n",
      "Test accuracy is: 0.978800\n"
     ]
    },
    {
     "data": {
      "image/png": "[encoded data removed]",
      "text/plain": [
       "<matplotlib.figure.Figure at 0x7fdf65221da0>"
      ]
     },
     "metadata": {},
     "output_type": "display_data"
    }
   ],
   "source": [
    "model(X_train,Y_train,X_dev,Y_dev,learning_rate=0.001,num_epochs=100,minibatch_size=64)\n",
    "# AdamOptimizer(num_epochs=20): Train=0.998218, Validation=0.982600, Test=0.981200\n",
    "# GradientDescentOptimizer: Train=0.887927, Validation=0.895200, Test=0.893300"
   ]
  },
  {
   "cell_type": "code",
   "execution_count": null,
   "metadata": {},
   "outputs": [],
   "source": []
  }
 ],
 "metadata": {
  "kernelspec": {
   "display_name": "Python 3",
   "language": "python",
   "name": "python3"
  },
  "language_info": {
   "codemirror_mode": {
    "name": "ipython",
    "version": 3
   },
   "file_extension": ".py",
   "mimetype": "text/x-python",
   "name": "python",
   "nbconvert_exporter": "python",
   "pygments_lexer": "ipython3",
   "version": "3.5.4"
  }
 },
 "nbformat": 4,
 "nbformat_minor": 2
}
